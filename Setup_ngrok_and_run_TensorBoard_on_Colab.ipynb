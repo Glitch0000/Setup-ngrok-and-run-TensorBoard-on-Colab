{
  "nbformat": 4,
  "nbformat_minor": 0,
  "metadata": {
    "colab": {
      "name": "Setup-ngrok-and-run-TensorBoard-on-Colab",
      "provenance": [],
      "authorship_tag": "ABX9TyNkK0PBb4+BLEPpxO5GLcEk",
      "include_colab_link": true
    },
    "kernelspec": {
      "name": "python3",
      "display_name": "Python 3"
    },
    "language_info": {
      "name": "python"
    }
  },
  "cells": [
    {
      "cell_type": "markdown",
      "metadata": {
        "id": "view-in-github",
        "colab_type": "text"
      },
      "source": [
        "<a href=\"https://colab.research.google.com/github/Glitch0000/Setup-ngrok-and-run-TensorBoard-on-Colab/blob/main/Setup_ngrok_and_run_TensorBoard_on_Colab.ipynb\" target=\"_parent\"><img src=\"https://colab.research.google.com/assets/colab-badge.svg\" alt=\"Open In Colab\"/></a>"
      ]
    },
    {
      "cell_type": "markdown",
      "metadata": {
        "id": "TE--pekGHkQT"
      },
      "source": [
        "## Setup ngrok and run TensorBoard on Colab\n",
        "\n",
        "Ngrok executable can be directly downloaded to your Colab notebook, run those two lines of code."
      ]
    },
    {
      "cell_type": "code",
      "metadata": {
        "id": "3TI8qTzeHuih"
      },
      "source": [
        "!mkdir -p /drive/ngrok-my\n",
        "%cd /drive/ngrok-my\n",
        "!wget https://bin.equinox.io/c/4VmDzA7iaHb/ngrok-stable-linux-amd64.zip -O ngrok-stable-linux-amd64.zip\n",
        "!unzip -u ngrok-stable-linux-amd64.zip\n",
        "!cp /drive/ngrok-my/ngrok /ngrok\n",
        "!chmod +x /ngrok"
      ],
      "execution_count": null,
      "outputs": []
    },
    {
      "cell_type": "markdown",
      "metadata": {
        "id": "oyY__vvIHhx9"
      },
      "source": [
        "# Sign-in with ngrok\n",
        "\n",
        "- Sign up for a free ngrok account: https://ngrok.com\n",
        "\n",
        "- Copy your authtoken from https://dashboard.ngrok.com/auth and paste it into the following cell\n",
        "\n",
        "- Run the cell"
      ]
    },
    {
      "cell_type": "code",
      "metadata": {
        "id": "2fCZP3P1H0UF"
      },
      "source": [
        "!/ngrok authtoken <KEY>"
      ],
      "execution_count": null,
      "outputs": []
    },
    {
      "cell_type": "markdown",
      "metadata": {
        "id": "6t5or8PLH8mQ"
      },
      "source": [
        "After this, the executable file ngrok will be extracted to the current directory.\n",
        "\n",
        "Next, let's fire up the TensorBoard in the background like this:"
      ]
    },
    {
      "cell_type": "code",
      "metadata": {
        "id": "VjjeHXN7H8Aw"
      },
      "source": [
        "LOG_DIR = model_dir\n",
        "get_ipython().system_raw(\n",
        "    'tensorboard --logdir {} --host 0.0.0.0 --port 6006 &'\n",
        "    .format(LOG_DIR)\n",
        ")"
      ],
      "execution_count": null,
      "outputs": []
    },
    {
      "cell_type": "markdown",
      "metadata": {
        "id": "CMT0U7dxIAK4"
      },
      "source": [
        "It is assuming the TensorBoard log path is \"./log\", where we are going to tell Keras to log files.\n",
        "\n",
        "Then, we can run ngrok to tunnel TensorBoard port 6006 to the outside world. This command also runs in the background."
      ]
    },
    {
      "cell_type": "code",
      "metadata": {
        "id": "NwWNsy-QICOV"
      },
      "source": [
        "# Run Ngrok with port 6006\n",
        "get_ipython().system_raw('./ngrok http 6006 &')"
      ],
      "execution_count": null,
      "outputs": []
    },
    {
      "cell_type": "markdown",
      "metadata": {
        "id": "5gqGIHSHIG_X"
      },
      "source": [
        "### Get Tensorboard link\n",
        "\n",
        "One last step, we get the public URL where we can access the colab TensorBoard web page.\n"
      ]
    },
    {
      "cell_type": "code",
      "metadata": {
        "id": "x0zbnoS_IK7H"
      },
      "source": [
        "# get the public ip to view tensorboard webui\n",
        "! curl -s http://localhost:4040/api/tunnels | python3 -c \\\n",
        "    \"import sys, json; print(json.load(sys.stdin)['tunnels'][0]['public_url'])\""
      ],
      "execution_count": null,
      "outputs": []
    }
  ]
}